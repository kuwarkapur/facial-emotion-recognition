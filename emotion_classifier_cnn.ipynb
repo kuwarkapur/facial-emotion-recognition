{
  "nbformat": 4,
  "nbformat_minor": 0,
  "metadata": {
    "colab": {
      "name": "emotion_classifier_cnn.ipynb",
      "provenance": [],
      "collapsed_sections": []
    },
    "kernelspec": {
      "name": "python3",
      "display_name": "Python 3"
    },
    "language_info": {
      "name": "python"
    },
    "accelerator": "GPU"
  },
  "cells": [
    {
      "cell_type": "code",
      "metadata": {
        "colab": {
          "base_uri": "https://localhost:8080/"
        },
        "id": "KSSqSyK6Cvsf",
        "outputId": "41a2372c-9965-4bb9-9a2e-4fffe53477c5"
      },
      "source": [
        "\n",
        "! kaggle datasets download -d mahmoudima/mma-facial-expression\n",
        "! kaggle datasets download -d debanga/facial-expression-recognition-challenge"
      ],
      "execution_count": null,
      "outputs": [
        {
          "output_type": "stream",
          "name": "stdout",
          "text": [
            "Downloading facial-expression-recognition-challenge.zip to /content\n",
            " 97% 310M/321M [00:02<00:00, 115MB/s]\n",
            "100% 321M/321M [00:02<00:00, 114MB/s]\n"
          ]
        }
      ]
    },
    {
      "cell_type": "code",
      "metadata": {
        "id": "vW5Sd_WODXQx"
      },
      "source": [
        "import zipfile\n",
        "z=zipfile.ZipFile('/content/facial-expression-recognition-challenge.zip')\n",
        "z1=zipfile.ZipFile('/content/mma-facial-expression.zip')\n",
        "z.extractall()\n",
        "z.close()\n",
        "z1.extractall()\n",
        "z1.close()"
      ],
      "execution_count": null,
      "outputs": []
    },
    {
      "cell_type": "code",
      "metadata": {
        "colab": {
          "base_uri": "https://localhost:8080/"
        },
        "id": "Ox7wpKnAqqZJ",
        "outputId": "67b76c0b-785a-431e-ffc6-04f29de1f8f8"
      },
      "source": [
        "from google.colab import drive\n",
        "drive.mount('/content/drive')"
      ],
      "execution_count": null,
      "outputs": [
        {
          "output_type": "stream",
          "name": "stdout",
          "text": [
            "Mounted at /content/drive\n"
          ]
        }
      ]
    },
    {
      "cell_type": "markdown",
      "metadata": {
        "id": "EeQqwwcBmCie"
      },
      "source": [
        "#**firstly we are going to work with the csv data of the images writeen in the form of csv having pixels and labels of different emotions**"
      ]
    },
    {
      "cell_type": "code",
      "metadata": {
        "id": "yw0ZW_9mboYV"
      },
      "source": [
        "import pandas as pd \n",
        "train=pd.read_csv('/content/icml_face_data.csv/icml_face_data.csv')\n",
        "test=pd.read_csv('test.csv/test.csv')"
      ],
      "execution_count": null,
      "outputs": []
    },
    {
      "cell_type": "code",
      "metadata": {
        "colab": {
          "base_uri": "https://localhost:8080/"
        },
        "id": "U4zcWGOdq-6s",
        "outputId": "72560408-b5c3-4df7-d8e6-f0d0b5cb5dc1"
      },
      "source": [
        "len(train)"
      ],
      "execution_count": null,
      "outputs": [
        {
          "output_type": "execute_result",
          "data": {
            "text/plain": [
              "35887"
            ]
          },
          "metadata": {},
          "execution_count": 11
        }
      ]
    },
    {
      "cell_type": "code",
      "metadata": {
        "colab": {
          "base_uri": "https://localhost:8080/",
          "height": 203
        },
        "id": "yokKUXpHbxiJ",
        "outputId": "c5d11dad-6256-4288-bfd1-6da06b674723"
      },
      "source": [
        "emotions = ['Angry', 'Disgust', 'Fear', 'Happy', 'Sad', 'Surprise', 'Neutral']\n",
        "train['emotion'] = train['emotion'].apply(lambda x: emotions[int(x)])\n",
        "train.head()"
      ],
      "execution_count": null,
      "outputs": [
        {
          "output_type": "execute_result",
          "data": {
            "text/html": [
              "<div>\n",
              "<style scoped>\n",
              "    .dataframe tbody tr th:only-of-type {\n",
              "        vertical-align: middle;\n",
              "    }\n",
              "\n",
              "    .dataframe tbody tr th {\n",
              "        vertical-align: top;\n",
              "    }\n",
              "\n",
              "    .dataframe thead th {\n",
              "        text-align: right;\n",
              "    }\n",
              "</style>\n",
              "<table border=\"1\" class=\"dataframe\">\n",
              "  <thead>\n",
              "    <tr style=\"text-align: right;\">\n",
              "      <th></th>\n",
              "      <th>emotion</th>\n",
              "      <th>Usage</th>\n",
              "      <th>pixels</th>\n",
              "    </tr>\n",
              "  </thead>\n",
              "  <tbody>\n",
              "    <tr>\n",
              "      <th>0</th>\n",
              "      <td>Angry</td>\n",
              "      <td>Training</td>\n",
              "      <td>70 80 82 72 58 58 60 63 54 58 60 48 89 115 121...</td>\n",
              "    </tr>\n",
              "    <tr>\n",
              "      <th>1</th>\n",
              "      <td>Angry</td>\n",
              "      <td>Training</td>\n",
              "      <td>151 150 147 155 148 133 111 140 170 174 182 15...</td>\n",
              "    </tr>\n",
              "    <tr>\n",
              "      <th>2</th>\n",
              "      <td>Fear</td>\n",
              "      <td>Training</td>\n",
              "      <td>231 212 156 164 174 138 161 173 182 200 106 38...</td>\n",
              "    </tr>\n",
              "    <tr>\n",
              "      <th>3</th>\n",
              "      <td>Sad</td>\n",
              "      <td>Training</td>\n",
              "      <td>24 32 36 30 32 23 19 20 30 41 21 22 32 34 21 1...</td>\n",
              "    </tr>\n",
              "    <tr>\n",
              "      <th>4</th>\n",
              "      <td>Neutral</td>\n",
              "      <td>Training</td>\n",
              "      <td>4 0 0 0 0 0 0 0 0 0 0 0 3 15 23 28 48 50 58 84...</td>\n",
              "    </tr>\n",
              "  </tbody>\n",
              "</table>\n",
              "</div>"
            ],
            "text/plain": [
              "   emotion     Usage                                             pixels\n",
              "0    Angry  Training  70 80 82 72 58 58 60 63 54 58 60 48 89 115 121...\n",
              "1    Angry  Training  151 150 147 155 148 133 111 140 170 174 182 15...\n",
              "2     Fear  Training  231 212 156 164 174 138 161 173 182 200 106 38...\n",
              "3      Sad  Training  24 32 36 30 32 23 19 20 30 41 21 22 32 34 21 1...\n",
              "4  Neutral  Training  4 0 0 0 0 0 0 0 0 0 0 0 3 15 23 28 48 50 58 84..."
            ]
          },
          "metadata": {},
          "execution_count": 12
        }
      ]
    },
    {
      "cell_type": "code",
      "metadata": {
        "id": "ZZDpTpjCdE-v",
        "colab": {
          "base_uri": "https://localhost:8080/"
        },
        "outputId": "a4c5f9e5-4cd1-48c3-d2c2-87b84b731861"
      },
      "source": [
        "train['emotion'].value_counts()"
      ],
      "execution_count": null,
      "outputs": [
        {
          "output_type": "execute_result",
          "data": {
            "text/plain": [
              "Happy       8989\n",
              "Neutral     6198\n",
              "Sad         6077\n",
              "Fear        5121\n",
              "Angry       4953\n",
              "Surprise    4002\n",
              "Disgust      547\n",
              "Name: emotion, dtype: int64"
            ]
          },
          "metadata": {},
          "execution_count": 6
        }
      ]
    },
    {
      "cell_type": "code",
      "metadata": {
        "id": "q3-oyR53jaE5"
      },
      "source": [
        "emotion=['Happy','Neutral','Sad','Angry']\n",
        "df=train[train.emotion.isin(emotion)]"
      ],
      "execution_count": null,
      "outputs": []
    },
    {
      "cell_type": "code",
      "metadata": {
        "colab": {
          "base_uri": "https://localhost:8080/"
        },
        "id": "N7hwqfHFk9bp",
        "outputId": "782eed9b-83df-4309-cd99-d7dc25a84e9b"
      },
      "source": [
        "df.shape"
      ],
      "execution_count": null,
      "outputs": [
        {
          "output_type": "execute_result",
          "data": {
            "text/plain": [
              "(26217, 3)"
            ]
          },
          "metadata": {},
          "execution_count": 29
        }
      ]
    },
    {
      "cell_type": "code",
      "metadata": {
        "colab": {
          "base_uri": "https://localhost:8080/",
          "height": 417
        },
        "id": "hfZ7ALHWbc-p",
        "outputId": "a1571813-4999-48b2-afe7-cec4c4d0ab11"
      },
      "source": [
        "df"
      ],
      "execution_count": null,
      "outputs": [
        {
          "output_type": "execute_result",
          "data": {
            "text/html": [
              "<div>\n",
              "<style scoped>\n",
              "    .dataframe tbody tr th:only-of-type {\n",
              "        vertical-align: middle;\n",
              "    }\n",
              "\n",
              "    .dataframe tbody tr th {\n",
              "        vertical-align: top;\n",
              "    }\n",
              "\n",
              "    .dataframe thead th {\n",
              "        text-align: right;\n",
              "    }\n",
              "</style>\n",
              "<table border=\"1\" class=\"dataframe\">\n",
              "  <thead>\n",
              "    <tr style=\"text-align: right;\">\n",
              "      <th></th>\n",
              "      <th>emotion</th>\n",
              "      <th>Usage</th>\n",
              "      <th>pixels</th>\n",
              "    </tr>\n",
              "  </thead>\n",
              "  <tbody>\n",
              "    <tr>\n",
              "      <th>0</th>\n",
              "      <td>Angry</td>\n",
              "      <td>Training</td>\n",
              "      <td>70 80 82 72 58 58 60 63 54 58 60 48 89 115 121...</td>\n",
              "    </tr>\n",
              "    <tr>\n",
              "      <th>1</th>\n",
              "      <td>Angry</td>\n",
              "      <td>Training</td>\n",
              "      <td>151 150 147 155 148 133 111 140 170 174 182 15...</td>\n",
              "    </tr>\n",
              "    <tr>\n",
              "      <th>2</th>\n",
              "      <td>Fear</td>\n",
              "      <td>Training</td>\n",
              "      <td>231 212 156 164 174 138 161 173 182 200 106 38...</td>\n",
              "    </tr>\n",
              "    <tr>\n",
              "      <th>3</th>\n",
              "      <td>Sad</td>\n",
              "      <td>Training</td>\n",
              "      <td>24 32 36 30 32 23 19 20 30 41 21 22 32 34 21 1...</td>\n",
              "    </tr>\n",
              "    <tr>\n",
              "      <th>4</th>\n",
              "      <td>Neutral</td>\n",
              "      <td>Training</td>\n",
              "      <td>4 0 0 0 0 0 0 0 0 0 0 0 3 15 23 28 48 50 58 84...</td>\n",
              "    </tr>\n",
              "    <tr>\n",
              "      <th>...</th>\n",
              "      <td>...</td>\n",
              "      <td>...</td>\n",
              "      <td>...</td>\n",
              "    </tr>\n",
              "    <tr>\n",
              "      <th>35882</th>\n",
              "      <td>Neutral</td>\n",
              "      <td>PrivateTest</td>\n",
              "      <td>50 36 17 22 23 29 33 39 34 37 37 37 39 43 48 5...</td>\n",
              "    </tr>\n",
              "    <tr>\n",
              "      <th>35883</th>\n",
              "      <td>Happy</td>\n",
              "      <td>PrivateTest</td>\n",
              "      <td>178 174 172 173 181 188 191 194 196 199 200 20...</td>\n",
              "    </tr>\n",
              "    <tr>\n",
              "      <th>35884</th>\n",
              "      <td>Angry</td>\n",
              "      <td>PrivateTest</td>\n",
              "      <td>17 17 16 23 28 22 19 17 25 26 20 24 31 19 27 9...</td>\n",
              "    </tr>\n",
              "    <tr>\n",
              "      <th>35885</th>\n",
              "      <td>Happy</td>\n",
              "      <td>PrivateTest</td>\n",
              "      <td>30 28 28 29 31 30 42 68 79 81 77 67 67 71 63 6...</td>\n",
              "    </tr>\n",
              "    <tr>\n",
              "      <th>35886</th>\n",
              "      <td>Fear</td>\n",
              "      <td>PrivateTest</td>\n",
              "      <td>19 13 14 12 13 16 21 33 50 57 71 84 97 108 122...</td>\n",
              "    </tr>\n",
              "  </tbody>\n",
              "</table>\n",
              "<p>31338 rows × 3 columns</p>\n",
              "</div>"
            ],
            "text/plain": [
              "       emotion        Usage                                             pixels\n",
              "0        Angry     Training  70 80 82 72 58 58 60 63 54 58 60 48 89 115 121...\n",
              "1        Angry     Training  151 150 147 155 148 133 111 140 170 174 182 15...\n",
              "2         Fear     Training  231 212 156 164 174 138 161 173 182 200 106 38...\n",
              "3          Sad     Training  24 32 36 30 32 23 19 20 30 41 21 22 32 34 21 1...\n",
              "4      Neutral     Training  4 0 0 0 0 0 0 0 0 0 0 0 3 15 23 28 48 50 58 84...\n",
              "...        ...          ...                                                ...\n",
              "35882  Neutral  PrivateTest  50 36 17 22 23 29 33 39 34 37 37 37 39 43 48 5...\n",
              "35883    Happy  PrivateTest  178 174 172 173 181 188 191 194 196 199 200 20...\n",
              "35884    Angry  PrivateTest  17 17 16 23 28 22 19 17 25 26 20 24 31 19 27 9...\n",
              "35885    Happy  PrivateTest  30 28 28 29 31 30 42 68 79 81 77 67 67 71 63 6...\n",
              "35886     Fear  PrivateTest  19 13 14 12 13 16 21 33 50 57 71 84 97 108 122...\n",
              "\n",
              "[31338 rows x 3 columns]"
            ]
          },
          "metadata": {},
          "execution_count": 16
        }
      ]
    },
    {
      "cell_type": "code",
      "metadata": {
        "colab": {
          "base_uri": "https://localhost:8080/"
        },
        "id": "Q9qG4hEri302",
        "outputId": "9f2ccbc7-48c4-4d92-8990-c9a7a5c451b5"
      },
      "source": [
        "from keras.utils import np_utils\n",
        "from sklearn.preprocessing import LabelEncoder\n",
        "le = LabelEncoder()\n",
        "img_labels = le.fit_transform(df.emotion)\n",
        "img_labels = np_utils.to_categorical(img_labels)\n",
        "img_labels.shape"
      ],
      "execution_count": null,
      "outputs": [
        {
          "output_type": "execute_result",
          "data": {
            "text/plain": [
              "(26217, 4)"
            ]
          },
          "metadata": {},
          "execution_count": 30
        }
      ]
    },
    {
      "cell_type": "code",
      "metadata": {
        "colab": {
          "base_uri": "https://localhost:8080/"
        },
        "id": "FaquI1Bnbkmi",
        "outputId": "70ddd3c1-8678-4d8f-e15a-45a3a0759fe6"
      },
      "source": [
        "le.classes_"
      ],
      "execution_count": null,
      "outputs": [
        {
          "output_type": "execute_result",
          "data": {
            "text/plain": [
              "array(['Angry', 'Happy', 'Neutral', 'Sad'], dtype=object)"
            ]
          },
          "metadata": {},
          "execution_count": 31
        }
      ]
    },
    {
      "cell_type": "code",
      "metadata": {
        "colab": {
          "base_uri": "https://localhost:8080/"
        },
        "id": "TeeYb-UBjS7U",
        "outputId": "f7e72210-f047-4876-c440-4dbddcec668c"
      },
      "source": [
        "le_name_mapping = dict(zip(le.classes_, le.transform(le.classes_)))\n",
        "le_name_mapping # {3: 0, 4: 1, 6: 2}"
      ],
      "execution_count": null,
      "outputs": [
        {
          "output_type": "execute_result",
          "data": {
            "text/plain": [
              "{'Angry': 0, 'Happy': 1, 'Neutral': 2, 'Sad': 3}"
            ]
          },
          "metadata": {},
          "execution_count": 32
        }
      ]
    },
    {
      "cell_type": "code",
      "metadata": {
        "id": "GcAl0EXZjpC6",
        "colab": {
          "base_uri": "https://localhost:8080/"
        },
        "outputId": "0163f328-f0a3-4dbf-c882-0df0c432943a"
      },
      "source": [
        "from keras.utils import np_utils\n",
        "import numpy as np\n",
        "img_array = df[' pixels'].apply(lambda x: np.array(x.split(' ')).reshape(48, 48, 1).astype('float32'))\n",
        "img_array = np.stack(img_array, axis=0)\n",
        "img_array.shape"
      ],
      "execution_count": null,
      "outputs": [
        {
          "output_type": "execute_result",
          "data": {
            "text/plain": [
              "(26217, 48, 48, 1)"
            ]
          },
          "metadata": {},
          "execution_count": 33
        }
      ]
    },
    {
      "cell_type": "code",
      "metadata": {
        "id": "ao68TBL3l7Fj"
      },
      "source": [
        "from sklearn.model_selection import train_test_split\n",
        "\n",
        "X_train, X_valid, y_train, y_valid = train_test_split(\n",
        "  img_array,\n",
        "  img_labels,\n",
        "  shuffle=True, \n",
        "  stratify=img_labels,\n",
        "  test_size=0.1, \n",
        "  random_state=42\n",
        ")"
      ],
      "execution_count": null,
      "outputs": []
    },
    {
      "cell_type": "code",
      "metadata": {
        "id": "o7NCk9exmEuv"
      },
      "source": [
        "X_train = X_train / 255.\n",
        "X_valid = X_valid / 255.\n",
        "\n",
        "img_width = X_train.shape[1]\n",
        "img_height = X_train.shape[2]\n",
        "img_depth = X_train.shape[3]\n",
        "num_classes = y_train.shape[1]"
      ],
      "execution_count": null,
      "outputs": []
    },
    {
      "cell_type": "code",
      "metadata": {
        "id": "95yWHlb-D3Uk"
      },
      "source": [
        "import tensorflow as tf\n",
        "from tensorflow.keras.layers import Flatten,MaxPool2D,Dense,Conv2D\n",
        "from tensorflow.keras import Sequential\n",
        "from tensorflow.keras.preprocessing import image_dataset_from_directory\n",
        "from tensorflow.keras.preprocessing.image import ImageDataGenerator "
      ],
      "execution_count": null,
      "outputs": []
    },
    {
      "cell_type": "code",
      "metadata": {
        "id": "Cw3ZPb1qFlTZ",
        "colab": {
          "base_uri": "https://localhost:8080/"
        },
        "outputId": "878933e1-5edc-4b26-d2ee-3a4ad2e7bda6"
      },
      "source": [
        "from tensorflow.keras.layers import Dropout, BatchNormalization, LeakyReLU, Activation,MaxPooling2D,Conv2D\n",
        "model_0=Sequential([\n",
        "  Conv2D(64,3,activation='relu',input_shape=(img_height,img_width,img_depth)),\n",
        "  MaxPooling2D(padding='same'),\n",
        "  Conv2D(64,3,activation='relu'),\n",
        "  MaxPooling2D(padding='same'),\n",
        "  Conv2D(128,3,activation='relu'),\n",
        "  MaxPooling2D(padding='same'), \n",
        "  Conv2D(128,3,activation='relu'),\n",
        "  MaxPooling2D(padding='same'),  \n",
        "\n",
        "  Flatten(),\n",
        "  Dense(128,activation='relu'),\n",
        "  Dense(num_classes,activation='softmax')\n",
        "])\n",
        "\n",
        "\n",
        "model_0.compile(loss=tf.keras.losses.CategoricalCrossentropy(),\n",
        "                optimizer=tf.keras.optimizers.Nadam(learning_rate=0.001,beta_1=0.9,beta_2=0.999,epsilon=1e-07),\n",
        "                metrics='accuracy')\n",
        "\n",
        "model_0.fit(X_train,y_train,\n",
        "            epochs=10,\n",
        "            #steps_per_epoch=(1*len(X_train)),\n",
        "            validation_data=(X_valid,y_valid))"
      ],
      "execution_count": null,
      "outputs": [
        {
          "output_type": "stream",
          "name": "stdout",
          "text": [
            "Epoch 1/10\n",
            "738/738 [==============================] - 16s 20ms/step - loss: 1.1823 - accuracy: 0.4645 - val_loss: 1.0625 - val_accuracy: 0.5236\n",
            "Epoch 2/10\n",
            "738/738 [==============================] - 14s 19ms/step - loss: 0.9552 - accuracy: 0.5915 - val_loss: 0.9350 - val_accuracy: 0.6049\n",
            "Epoch 3/10\n",
            "738/738 [==============================] - 14s 19ms/step - loss: 0.8606 - accuracy: 0.6375 - val_loss: 0.9570 - val_accuracy: 0.5953\n",
            "Epoch 4/10\n",
            "738/738 [==============================] - 14s 19ms/step - loss: 0.7939 - accuracy: 0.6761 - val_loss: 0.8745 - val_accuracy: 0.6411\n",
            "Epoch 5/10\n",
            "738/738 [==============================] - 14s 19ms/step - loss: 0.7305 - accuracy: 0.7064 - val_loss: 0.8491 - val_accuracy: 0.6568\n",
            "Epoch 6/10\n",
            "738/738 [==============================] - 14s 19ms/step - loss: 0.6669 - accuracy: 0.7356 - val_loss: 0.9001 - val_accuracy: 0.6362\n",
            "Epoch 7/10\n",
            "738/738 [==============================] - 14s 19ms/step - loss: 0.6026 - accuracy: 0.7629 - val_loss: 0.9127 - val_accuracy: 0.6457\n",
            "Epoch 8/10\n",
            "738/738 [==============================] - 14s 19ms/step - loss: 0.5369 - accuracy: 0.7893 - val_loss: 0.9740 - val_accuracy: 0.6442\n",
            "Epoch 9/10\n",
            "738/738 [==============================] - 14s 19ms/step - loss: 0.4742 - accuracy: 0.8151 - val_loss: 1.0004 - val_accuracy: 0.6457\n",
            "Epoch 10/10\n",
            "738/738 [==============================] - 14s 19ms/step - loss: 0.4126 - accuracy: 0.8435 - val_loss: 1.0555 - val_accuracy: 0.6438\n"
          ]
        },
        {
          "output_type": "execute_result",
          "data": {
            "text/plain": [
              "<keras.callbacks.History at 0x7f9ab3d7b390>"
            ]
          },
          "metadata": {},
          "execution_count": 39
        }
      ]
    },
    {
      "cell_type": "code",
      "metadata": {
        "colab": {
          "base_uri": "https://localhost:8080/"
        },
        "id": "6g-EeWZkqYyQ",
        "outputId": "4a6fd26b-7945-449c-c954-9a9c6c22dd3e"
      },
      "source": [
        "model_0.evaluate(X_valid,y_valid)"
      ],
      "execution_count": null,
      "outputs": [
        {
          "output_type": "stream",
          "name": "stdout",
          "text": [
            "82/82 [==============================] - 1s 8ms/step - loss: 1.0555 - accuracy: 0.6438\n"
          ]
        },
        {
          "output_type": "execute_result",
          "data": {
            "text/plain": [
              "[1.0555319786071777, 0.6437833905220032]"
            ]
          },
          "metadata": {},
          "execution_count": 40
        }
      ]
    },
    {
      "cell_type": "markdown",
      "metadata": {
        "id": "KatNn2tzmRwO"
      },
      "source": [
        "## **now we will work with data of images stored in folders in the form of images**\n",
        "1. FIRST METHOD WILL BE DOING THIS THE CONVENTIONAL WAY USINF CONVOLUTIONAL NEURAL NETWORK(model_1)\n",
        "2.AFTER THAT WE WILL BE USING TRANSFER LEARNING AND FINE TUNING (model_2)"
      ]
    },
    {
      "cell_type": "code",
      "metadata": {
        "id": "THUCrr5lTqmN"
      },
      "source": [
        "import zipfile\n",
        "z=zipfile.ZipFile('drive/MyDrive/train.zip')\n",
        "z.extractall()\n",
        "z.close()"
      ],
      "execution_count": null,
      "outputs": []
    },
    {
      "cell_type": "code",
      "metadata": {
        "id": "N7b0daSp4uwJ"
      },
      "source": [
        "import zipfile\n",
        "z=zipfile.ZipFile('drive/MyDrive/test.zip')\n",
        "z.extractall()\n",
        "z.close()"
      ],
      "execution_count": null,
      "outputs": []
    },
    {
      "cell_type": "code",
      "metadata": {
        "colab": {
          "base_uri": "https://localhost:8080/"
        },
        "id": "2nTG8e03FINU",
        "outputId": "272bb288-725f-4121-99a1-c3876cd6b96d"
      },
      "source": [
        "train=image_dataset_from_directory('/content/train',\n",
        "                                   label_mode='categorical',\n",
        "                                   \n",
        "                                   batch_size=32, image_size=(224, 224), shuffle=True, seed=42)\n",
        "test=image_dataset_from_directory('/content/test',\n",
        "                                   label_mode='categorical',\n",
        "                                   batch_size=32, image_size=(224, 224), shuffle=True, seed=42)\n"
      ],
      "execution_count": null,
      "outputs": [
        {
          "output_type": "stream",
          "name": "stdout",
          "text": [
            "Found 31878 files belonging to 5 classes.\n",
            "Found 16010 files belonging to 5 classes.\n"
          ]
        }
      ]
    },
    {
      "cell_type": "code",
      "metadata": {
        "id": "WgHVRHFfVilr"
      },
      "source": [
        "from tensorflow.keras.layers import Dropout, BatchNormalization, LeakyReLU, Activation,MaxPooling2D,Conv2D\n",
        "model_1=Sequential([\n",
        "  Conv2D(32,3,activation='relu',input_shape=(224,224,3)),\n",
        "  MaxPooling2D(padding='same'),\n",
        "  Conv2D(64,3,activation='relu'),\n",
        "  MaxPooling2D(padding='same'),\n",
        "  Conv2D(64,3,activation='relu'),\n",
        "  MaxPooling2D(padding='same'), \n",
        "  Conv2D(128,3,activation='relu'),\n",
        "  MaxPooling2D(padding='same'),\n",
        "\n",
        "  Flatten(),\n",
        "  Dense(128,activation='relu'),\n",
        "  Dense(5,activation='softmax')\n",
        "])\n",
        "\n",
        "\n",
        "model_1.compile(loss=tf.keras.losses.CategoricalCrossentropy(),\n",
        "                optimizer=tf.keras.optimizers.Adam(),\n",
        "                metrics='accuracy')\n",
        "\n",
        "\n",
        "model_1.fit(train,\n",
        "            epochs=5,\n",
        "            #steps_per_epoch=(1*len(X_train)),\n",
        "            validation_data=(test),\n",
        "            \n",
        "            validation_steps=(0.15*len(test)))"
      ],
      "execution_count": null,
      "outputs": []
    },
    {
      "cell_type": "code",
      "metadata": {
        "colab": {
          "base_uri": "https://localhost:8080/"
        },
        "id": "LaHbe8KjlALv",
        "outputId": "50f85c8f-67ea-4d1e-c912-68548b6df647"
      },
      "source": [
        "model_1.evaluate(test)"
      ],
      "execution_count": null,
      "outputs": [
        {
          "output_type": "stream",
          "name": "stdout",
          "text": [
            "501/501 [==============================] - 21s 41ms/step - loss: 1.8090 - accuracy: 0.3505\n"
          ]
        },
        {
          "output_type": "execute_result",
          "data": {
            "text/plain": [
              "[1.8089773654937744, 0.3504684567451477]"
            ]
          },
          "metadata": {},
          "execution_count": 9
        }
      ]
    },
    {
      "cell_type": "code",
      "metadata": {
        "id": "6yZX0bq_L6MQ"
      },
      "source": [
        "model_1.save('emotion_csv.h5')"
      ],
      "execution_count": null,
      "outputs": []
    },
    {
      "cell_type": "code",
      "metadata": {
        "id": "YJncuFjJPSQs"
      },
      "source": [
        "from tensorflow.keras.layers.experimental import preprocessing"
      ],
      "execution_count": null,
      "outputs": []
    },
    {
      "cell_type": "code",
      "metadata": {
        "id": "kDXbksG-PJDB"
      },
      "source": [
        "data_augmentation = Sequential([\n",
        "  preprocessing.RandomFlip('horizontal'),\n",
        "  preprocessing.RandomHeight(0.2),\n",
        "  preprocessing.RandomWidth(0.2),\n",
        "  preprocessing.RandomZoom(0.2),\n",
        "  #preprocessing.Rescaling(1./255) # keep for ResNet50V2, remove for EfficientNet                 \n",
        "], name=\"data_augmentation\")"
      ],
      "execution_count": null,
      "outputs": []
    },
    {
      "cell_type": "code",
      "metadata": {
        "colab": {
          "base_uri": "https://localhost:8080/"
        },
        "id": "BSqjfJl8G4Dl",
        "outputId": "513f65e4-28f1-4537-a15d-5319d2126a3d"
      },
      "source": [
        "model=tf.keras.applications.EfficientNetB0(include_top=False)\n",
        "model.trainable=False\n",
        "input=tf.keras.layers.Input(shape=(224,224,3))\n",
        "x=data_augmentation(input)\n",
        "x=model(x,training=False)\n",
        "x=tf.keras.layers.GlobalAveragePooling2D()(x)\n",
        "x=tf.keras.layers.Dense(128,activation='relu')(x)\n",
        "x=tf.keras.layers.Dense(64,activation='relu')(x)\n",
        "outputs=tf.keras.layers.Dense(5,activation='softmax')(x)\n",
        "model_1=tf.keras.Model(input,outputs)\n",
        "model_1.summary()\n"
      ],
      "execution_count": null,
      "outputs": [
        {
          "output_type": "stream",
          "name": "stdout",
          "text": [
            "Downloading data from https://storage.googleapis.com/keras-applications/efficientnetb0_notop.h5\n",
            "16711680/16705208 [==============================] - 0s 0us/step\n",
            "16719872/16705208 [==============================] - 0s 0us/step\n",
            "Model: \"model\"\n",
            "_________________________________________________________________\n",
            "Layer (type)                 Output Shape              Param #   \n",
            "=================================================================\n",
            "input_2 (InputLayer)         [(None, 224, 224, 3)]     0         \n",
            "_________________________________________________________________\n",
            "data_augmentation (Sequentia (None, None, None, 3)     0         \n",
            "_________________________________________________________________\n",
            "efficientnetb0 (Functional)  (None, None, None, 1280)  4049571   \n",
            "_________________________________________________________________\n",
            "global_average_pooling2d (Gl (None, 1280)              0         \n",
            "_________________________________________________________________\n",
            "dense_4 (Dense)              (None, 128)               163968    \n",
            "_________________________________________________________________\n",
            "dense_5 (Dense)              (None, 64)                8256      \n",
            "_________________________________________________________________\n",
            "dense_6 (Dense)              (None, 5)                 325       \n",
            "=================================================================\n",
            "Total params: 4,222,120\n",
            "Trainable params: 172,549\n",
            "Non-trainable params: 4,049,571\n",
            "_________________________________________________________________\n"
          ]
        }
      ]
    },
    {
      "cell_type": "code",
      "metadata": {
        "colab": {
          "base_uri": "https://localhost:8080/"
        },
        "id": "m9PBeX5ZRdvU",
        "outputId": "740e7d79-33a9-4213-b7e2-07d6b3c7cb90"
      },
      "source": [
        "model_2.compile(loss=tf.keras.losses.CategoricalCrossentropy(),\n",
        "                optimizer=tf.keras.optimizers.Adam(),\n",
        "                metrics='accuracy')\n",
        "\n",
        "history_data_aug=model_2.fit(train,\n",
        "                                        epochs=5,\n",
        "                                        steps_per_epoch=(len(train)),\n",
        "                                        validation_data=(test),\n",
        "                                        validation_steps=(0.15*len(test))\n",
        "                                          )"
      ],
      "execution_count": null,
      "outputs": [
        {
          "output_type": "stream",
          "name": "stdout",
          "text": [
            "Epoch 1/5\n",
            "997/997 [==============================] - 331s 325ms/step - loss: 1.2809 - accuracy: 0.4752 - val_loss: 1.3365 - val_accuracy: 0.4531\n",
            "Epoch 2/5\n",
            "997/997 [==============================] - 233s 234ms/step - loss: 1.1647 - accuracy: 0.5319 - val_loss: 1.3799 - val_accuracy: 0.4420\n",
            "Epoch 3/5\n",
            "997/997 [==============================] - 207s 208ms/step - loss: 1.1311 - accuracy: 0.5491 - val_loss: 1.3219 - val_accuracy: 0.4667\n",
            "Epoch 4/5\n",
            "997/997 [==============================] - 185s 185ms/step - loss: 1.0913 - accuracy: 0.5623 - val_loss: 1.2940 - val_accuracy: 0.4774\n",
            "Epoch 5/5\n",
            "997/997 [==============================] - 176s 176ms/step - loss: 1.0629 - accuracy: 0.5800 - val_loss: 1.3495 - val_accuracy: 0.4544\n"
          ]
        }
      ]
    },
    {
      "cell_type": "code",
      "metadata": {
        "id": "hMvoAl78wcg5",
        "colab": {
          "base_uri": "https://localhost:8080/"
        },
        "outputId": "22139e7d-bebc-40d7-e3b7-66ce07ad55c9"
      },
      "source": [
        "model.trainable = True\n",
        "\n",
        "# Freeze all layers except for the\n",
        "for layer in model.layers[:-10]:\n",
        "  layer.trainable = False\n",
        "\n",
        "# Recompile the model (always recompile after any adjustments to a model)\n",
        "model_1.compile(loss=\"categorical_crossentropy\",\n",
        "              optimizer=tf.keras.optimizers.Adam(lr=0.0001), # lr is 10x lower than before for fine-tuning\n",
        "              metrics=[\"accuracy\"])"
      ],
      "execution_count": null,
      "outputs": [
        {
          "output_type": "stream",
          "name": "stderr",
          "text": [
            "/usr/local/lib/python3.7/dist-packages/keras/optimizer_v2/optimizer_v2.py:356: UserWarning: The `lr` argument is deprecated, use `learning_rate` instead.\n",
            "  \"The `lr` argument is deprecated, use `learning_rate` instead.\")\n"
          ]
        }
      ]
    },
    {
      "cell_type": "code",
      "metadata": {
        "id": "JMJ9voj7whUn",
        "colab": {
          "base_uri": "https://localhost:8080/"
        },
        "outputId": "bd1abab0-fcac-4b07-a48c-91c725c3a844"
      },
      "source": [
        "initial_epochs=5\n",
        "fine_tune_epochs = initial_epochs + 5\n",
        "\n",
        "# Refit the model (same as model_2 except with more trainable layers)\n",
        "history__data_aug = model_2.fit(train,\n",
        "                                               epochs=fine_tune_epochs,\n",
        "                                               initial_epoch=history_10_percent_data_aug.epoch[-1])"
      ],
      "execution_count": null,
      "outputs": [
        {
          "output_type": "stream",
          "name": "stdout",
          "text": [
            "Epoch 5/10\n",
            "997/997 [==============================] - 176s 170ms/step - loss: 1.0036 - accuracy: 0.6046\n",
            "Epoch 6/10\n",
            "997/997 [==============================] - 162s 162ms/step - loss: 0.9362 - accuracy: 0.6332\n",
            "Epoch 7/10\n",
            "997/997 [==============================] - 157s 157ms/step - loss: 0.8941 - accuracy: 0.6553\n",
            "Epoch 8/10\n",
            "997/997 [==============================] - 154s 154ms/step - loss: 0.8494 - accuracy: 0.6724\n",
            "Epoch 9/10\n",
            "997/997 [==============================] - 150s 150ms/step - loss: 0.8167 - accuracy: 0.6846\n",
            "Epoch 10/10\n",
            "997/997 [==============================] - 151s 151ms/step - loss: 0.7877 - accuracy: 0.6951\n"
          ]
        }
      ]
    },
    {
      "cell_type": "code",
      "metadata": {
        "colab": {
          "base_uri": "https://localhost:8080/"
        },
        "id": "OgJpdZkUmIB2",
        "outputId": "3dbafa44-26b7-4eab-a965-606b72334337"
      },
      "source": [
        "model_2.save('emotions.h5')\n"
      ],
      "execution_count": null,
      "outputs": [
        {
          "output_type": "stream",
          "name": "stderr",
          "text": [
            "/usr/local/lib/python3.7/dist-packages/keras/utils/generic_utils.py:497: CustomMaskWarning: Custom mask layers require a config and must override get_config. When loading, the custom mask layer must be passed to the custom_objects argument.\n",
            "  category=CustomMaskWarning)\n"
          ]
        }
      ]
    }
  ]
}